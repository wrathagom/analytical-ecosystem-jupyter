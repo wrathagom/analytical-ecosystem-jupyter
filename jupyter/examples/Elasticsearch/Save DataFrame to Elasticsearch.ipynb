{
 "cells": [
  {
   "cell_type": "markdown",
   "id": "0faa4795-4bc3-42f9-8a10-0a9639aff75d",
   "metadata": {},
   "source": [
    "# Inserting a Pandas DataFrame into Elasticsearch\n",
    "\n",
    "In this example we're going to upload data into Elasticsearch, including performing some cleaning to make the ES experience better.\n",
    "\n",
    "https://towardsdatascience.com/exporting-pandas-data-to-elasticsearch-724aa4dd8f62\n",
    "\n",
    "First we need to import some libraries\""
   ]
  },
  {
   "cell_type": "code",
   "execution_count": 1,
   "id": "5743d050-af75-4e3d-9fc4-5789af250454",
   "metadata": {},
   "outputs": [],
   "source": [
    "from datetime import datetime\n",
    "from elasticsearch import Elasticsearch\n",
    "from elasticsearch.helpers import bulk\n",
    "import pandas as pd\n",
    "import tqdm\n"
   ]
  },
  {
   "cell_type": "markdown",
   "id": "364f9489-5711-4e73-af37-e3a5f00d6f62",
   "metadata": {},
   "source": [
    "For our *analytical ecosystem* each service we add will be available at the name we use in the `docker-compose` file for that service. In this case Elasticsearch. is available at... `elasticsearch`."
   ]
  },
  {
   "cell_type": "code",
   "execution_count": 2,
   "id": "453286ea-d488-4f91-836e-d699b8bd8775",
   "metadata": {},
   "outputs": [],
   "source": [
    "es = Elasticsearch(['elasticsearch'])\n"
   ]
  },
  {
   "cell_type": "markdown",
   "id": "7459b133-434a-449f-a023-cda7bd75c961",
   "metadata": {},
   "source": [
    "And just for good measure, we'll make sure we can connect."
   ]
  },
  {
   "cell_type": "code",
   "execution_count": 3,
   "id": "6056b7ed-5c64-4b51-87e1-d5b34eb37bd7",
   "metadata": {},
   "outputs": [
    {
     "data": {
      "text/plain": [
       "{'cluster_name': 'docker-cluster',\n",
       " 'status': 'yellow',\n",
       " 'timed_out': False,\n",
       " 'number_of_nodes': 1,\n",
       " 'number_of_data_nodes': 1,\n",
       " 'active_primary_shards': 9,\n",
       " 'active_shards': 9,\n",
       " 'relocating_shards': 0,\n",
       " 'initializing_shards': 0,\n",
       " 'unassigned_shards': 1,\n",
       " 'delayed_unassigned_shards': 0,\n",
       " 'number_of_pending_tasks': 0,\n",
       " 'number_of_in_flight_fetch': 0,\n",
       " 'task_max_waiting_in_queue_millis': 0,\n",
       " 'active_shards_percent_as_number': 90.0}"
      ]
     },
     "execution_count": 3,
     "metadata": {},
     "output_type": "execute_result"
    }
   ],
   "source": [
    "es.cluster.health()\n"
   ]
  },
  {
   "cell_type": "markdown",
   "id": "cd410d3b-d5f7-4a52-84fe-d7ff76377a05",
   "metadata": {},
   "source": [
    "Moving data to Elasticsearch from a DataFrame isn't as simple as it should be, at least in my opinion. I should probably fix that someday and create a pandas library to package some of this up. Until then, we'll define a few functions to get us going."
   ]
  },
  {
   "cell_type": "code",
   "execution_count": 4,
   "id": "0d322ed3-3d74-4363-9024-fbead4000372",
   "metadata": {},
   "outputs": [],
   "source": [
    "# This function takes a DataFrame and the ES index we want to save it in.\n",
    "def doc_generator(df, index):\n",
    "    df_iter = df.iterrows()\n",
    "    \n",
    "    for i, document in df_iter:\n",
    "        yield {\n",
    "                \"_index\": index,\n",
    "                \"_source\": document.to_json(),\n",
    "            }\n",
    "\n",
    "# This function takes a date value and returns a safe date value. We have to avoid `NaT` values\n",
    "def safe_date(date_value):\n",
    "    return (\n",
    "        pd.to_datetime(date_value) if not pd.isna(date_value)\n",
    "            else  datetime(1970,1,1,0,0)\n",
    "    )\n",
    "\n",
    "# This function takes a string column and makes sure there is something in it. We have to avoid Na values.\n",
    "def safe_value(field_val):\n",
    "    return field_val if not pd.isna(field_val) else \"Other\"\n"
   ]
  },
  {
   "cell_type": "code",
   "execution_count": 5,
   "id": "6298f87e-ba63-4865-9734-4defa611fb5a",
   "metadata": {},
   "outputs": [],
   "source": [
    "# For each date column that we need to sanitize we repeat the below line:\n",
    "# df['goodDateField'] = df['PossiblyBlankDateField'].apply(safe_date)\n",
    "\n",
    "# For each string column that we need to sanitize we repeat the below line:\n",
    "# df['goodStringField'] = df['PossiblyBlankField'].apply(safe_value)\n"
   ]
  },
  {
   "cell_type": "code",
   "execution_count": 6,
   "id": "213f6fc7-fe9f-4744-b66a-b858ac680faa",
   "metadata": {},
   "outputs": [],
   "source": [
    "df = pd.read_csv('https://raw.githubusercontent.com/mwaskom/seaborn-data/master/mpg.csv')\n"
   ]
  },
  {
   "cell_type": "code",
   "execution_count": 7,
   "id": "e4ec3240-dbe4-4e45-8582-0dc42e00db5b",
   "metadata": {},
   "outputs": [
    {
     "data": {
      "text/html": [
       "<div>\n",
       "<style scoped>\n",
       "    .dataframe tbody tr th:only-of-type {\n",
       "        vertical-align: middle;\n",
       "    }\n",
       "\n",
       "    .dataframe tbody tr th {\n",
       "        vertical-align: top;\n",
       "    }\n",
       "\n",
       "    .dataframe thead th {\n",
       "        text-align: right;\n",
       "    }\n",
       "</style>\n",
       "<table border=\"1\" class=\"dataframe\">\n",
       "  <thead>\n",
       "    <tr style=\"text-align: right;\">\n",
       "      <th></th>\n",
       "      <th>mpg</th>\n",
       "      <th>cylinders</th>\n",
       "      <th>displacement</th>\n",
       "      <th>horsepower</th>\n",
       "      <th>weight</th>\n",
       "      <th>acceleration</th>\n",
       "      <th>model_year</th>\n",
       "      <th>origin</th>\n",
       "      <th>name</th>\n",
       "    </tr>\n",
       "  </thead>\n",
       "  <tbody>\n",
       "    <tr>\n",
       "      <th>0</th>\n",
       "      <td>18.0</td>\n",
       "      <td>8</td>\n",
       "      <td>307.0</td>\n",
       "      <td>130.0</td>\n",
       "      <td>3504</td>\n",
       "      <td>12.0</td>\n",
       "      <td>70</td>\n",
       "      <td>usa</td>\n",
       "      <td>chevrolet chevelle malibu</td>\n",
       "    </tr>\n",
       "    <tr>\n",
       "      <th>1</th>\n",
       "      <td>15.0</td>\n",
       "      <td>8</td>\n",
       "      <td>350.0</td>\n",
       "      <td>165.0</td>\n",
       "      <td>3693</td>\n",
       "      <td>11.5</td>\n",
       "      <td>70</td>\n",
       "      <td>usa</td>\n",
       "      <td>buick skylark 320</td>\n",
       "    </tr>\n",
       "    <tr>\n",
       "      <th>2</th>\n",
       "      <td>18.0</td>\n",
       "      <td>8</td>\n",
       "      <td>318.0</td>\n",
       "      <td>150.0</td>\n",
       "      <td>3436</td>\n",
       "      <td>11.0</td>\n",
       "      <td>70</td>\n",
       "      <td>usa</td>\n",
       "      <td>plymouth satellite</td>\n",
       "    </tr>\n",
       "    <tr>\n",
       "      <th>3</th>\n",
       "      <td>16.0</td>\n",
       "      <td>8</td>\n",
       "      <td>304.0</td>\n",
       "      <td>150.0</td>\n",
       "      <td>3433</td>\n",
       "      <td>12.0</td>\n",
       "      <td>70</td>\n",
       "      <td>usa</td>\n",
       "      <td>amc rebel sst</td>\n",
       "    </tr>\n",
       "    <tr>\n",
       "      <th>4</th>\n",
       "      <td>17.0</td>\n",
       "      <td>8</td>\n",
       "      <td>302.0</td>\n",
       "      <td>140.0</td>\n",
       "      <td>3449</td>\n",
       "      <td>10.5</td>\n",
       "      <td>70</td>\n",
       "      <td>usa</td>\n",
       "      <td>ford torino</td>\n",
       "    </tr>\n",
       "  </tbody>\n",
       "</table>\n",
       "</div>"
      ],
      "text/plain": [
       "    mpg  cylinders  displacement  horsepower  weight  acceleration  \\\n",
       "0  18.0          8         307.0       130.0    3504          12.0   \n",
       "1  15.0          8         350.0       165.0    3693          11.5   \n",
       "2  18.0          8         318.0       150.0    3436          11.0   \n",
       "3  16.0          8         304.0       150.0    3433          12.0   \n",
       "4  17.0          8         302.0       140.0    3449          10.5   \n",
       "\n",
       "   model_year origin                       name  \n",
       "0          70    usa  chevrolet chevelle malibu  \n",
       "1          70    usa          buick skylark 320  \n",
       "2          70    usa         plymouth satellite  \n",
       "3          70    usa              amc rebel sst  \n",
       "4          70    usa                ford torino  "
      ]
     },
     "execution_count": 7,
     "metadata": {},
     "output_type": "execute_result"
    }
   ],
   "source": [
    "df.head()\n"
   ]
  },
  {
   "cell_type": "code",
   "execution_count": 8,
   "id": "ee15e513-0dc4-4142-b6c6-c1956abb95b2",
   "metadata": {},
   "outputs": [
    {
     "data": {
      "text/plain": [
       "{'error': {'root_cause': [{'type': 'index_not_found_exception',\n",
       "    'reason': 'no such index [car-mpg-dataset]',\n",
       "    'resource.type': 'index_or_alias',\n",
       "    'resource.id': 'car-mpg-dataset',\n",
       "    'index_uuid': '_na_',\n",
       "    'index': 'car-mpg-dataset'}],\n",
       "  'type': 'index_not_found_exception',\n",
       "  'reason': 'no such index [car-mpg-dataset]',\n",
       "  'resource.type': 'index_or_alias',\n",
       "  'resource.id': 'car-mpg-dataset',\n",
       "  'index_uuid': '_na_',\n",
       "  'index': 'car-mpg-dataset'},\n",
       " 'status': 404}"
      ]
     },
     "execution_count": 8,
     "metadata": {},
     "output_type": "execute_result"
    }
   ],
   "source": [
    "es.indices.delete(index='car-mpg-dataset', ignore=[400, 404])\n"
   ]
  },
  {
   "cell_type": "code",
   "execution_count": 9,
   "id": "f85847dd-9c30-4d5b-a608-c4810772a564",
   "metadata": {},
   "outputs": [
    {
     "data": {
      "text/plain": [
       "(398, [])"
      ]
     },
     "execution_count": 9,
     "metadata": {},
     "output_type": "execute_result"
    }
   ],
   "source": [
    "bulk(es, doc_generator(df, 'car-mpg-dataset'), request_timeout=20)"
   ]
  },
  {
   "cell_type": "code",
   "execution_count": null,
   "id": "829d8693-3d38-4f94-877a-58ac5281e42a",
   "metadata": {},
   "outputs": [],
   "source": []
  }
 ],
 "metadata": {
  "kernelspec": {
   "display_name": "Python 3",
   "language": "python",
   "name": "python3"
  },
  "language_info": {
   "codemirror_mode": {
    "name": "ipython",
    "version": 3
   },
   "file_extension": ".py",
   "mimetype": "text/x-python",
   "name": "python",
   "nbconvert_exporter": "python",
   "pygments_lexer": "ipython3",
   "version": "3.9.2"
  }
 },
 "nbformat": 4,
 "nbformat_minor": 5
}
