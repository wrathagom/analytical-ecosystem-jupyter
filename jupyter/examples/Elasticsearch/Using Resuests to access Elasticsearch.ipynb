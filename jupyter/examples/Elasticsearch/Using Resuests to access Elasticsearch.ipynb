{
 "cells": [
  {
   "cell_type": "code",
   "execution_count": 1,
   "id": "516b7766-4a22-454d-82aa-54c3bf9f5e14",
   "metadata": {},
   "outputs": [],
   "source": [
    "import requests"
   ]
  },
  {
   "cell_type": "code",
   "execution_count": 2,
   "id": "de556fc0-5216-4d72-8ff4-f95d8e46faea",
   "metadata": {},
   "outputs": [
    {
     "data": {
      "text/plain": [
       "{'name': 'a3620a42d83b',\n",
       " 'cluster_name': 'docker-cluster',\n",
       " 'cluster_uuid': 'OHoYl_uWTyufe-SgUnvm5Q',\n",
       " 'version': {'number': '7.12.1',\n",
       "  'build_flavor': 'default',\n",
       "  'build_type': 'docker',\n",
       "  'build_hash': '3186837139b9c6b6d23c3200870651f10d3343b7',\n",
       "  'build_date': '2021-04-20T20:56:39.040728659Z',\n",
       "  'build_snapshot': False,\n",
       "  'lucene_version': '8.8.0',\n",
       "  'minimum_wire_compatibility_version': '6.8.0',\n",
       "  'minimum_index_compatibility_version': '6.0.0-beta1'},\n",
       " 'tagline': 'You Know, for Search'}"
      ]
     },
     "execution_count": 2,
     "metadata": {},
     "output_type": "execute_result"
    }
   ],
   "source": [
    "requests.get('http://elasticsearch:9200').json()"
   ]
  },
  {
   "cell_type": "code",
   "execution_count": null,
   "id": "770f3a67-b8e1-4aca-a794-0aa6dbe9bdd8",
   "metadata": {},
   "outputs": [],
   "source": []
  }
 ],
 "metadata": {
  "kernelspec": {
   "display_name": "Python 3",
   "language": "python",
   "name": "python3"
  },
  "language_info": {
   "codemirror_mode": {
    "name": "ipython",
    "version": 3
   },
   "file_extension": ".py",
   "mimetype": "text/x-python",
   "name": "python",
   "nbconvert_exporter": "python",
   "pygments_lexer": "ipython3",
   "version": "3.9.2"
  }
 },
 "nbformat": 4,
 "nbformat_minor": 5
}
