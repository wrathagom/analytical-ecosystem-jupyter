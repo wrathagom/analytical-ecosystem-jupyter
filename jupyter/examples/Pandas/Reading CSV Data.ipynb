{
 "cells": [
  {
   "cell_type": "markdown",
   "id": "f3bd1268-f98a-456a-8ec4-da802ffafe4c",
   "metadata": {},
   "source": [
    "# Pandas DataFrame from CSV\n",
    "\n",
    "In this example we're going to read from a CSV file and load it into a Dataframe. We'll read from the local disk and Github (url)."
   ]
  },
  {
   "cell_type": "code",
   "execution_count": 33,
   "id": "b9f37525-82cc-4e83-a792-29d70f1a4ec0",
   "metadata": {},
   "outputs": [],
   "source": [
    "import pandas as pd"
   ]
  },
  {
   "cell_type": "markdown",
   "id": "c05368ed-18c5-407a-8cf7-57e20e64dd5f",
   "metadata": {},
   "source": [
    "### Reading from the Local Hard Drive\n",
    "\n",
    "For the purpose of this example we're going to read a CSV stored locally. It's one folder up in the `Datasets` directory."
   ]
  },
  {
   "cell_type": "code",
   "execution_count": 34,
   "id": "cb589a0a-0d0a-4793-8216-9e1d1c9c3f9e",
   "metadata": {},
   "outputs": [],
   "source": [
    "df = pd.read_csv('../Datasets/docker-stacks-commit-log.csv')"
   ]
  },
  {
   "cell_type": "code",
   "execution_count": 35,
   "id": "3b3d5206-9cb7-437b-a832-060ebb8fe549",
   "metadata": {},
   "outputs": [
    {
     "data": {
      "text/html": [
       "<div>\n",
       "<style scoped>\n",
       "    .dataframe tbody tr th:only-of-type {\n",
       "        vertical-align: middle;\n",
       "    }\n",
       "\n",
       "    .dataframe tbody tr th {\n",
       "        vertical-align: top;\n",
       "    }\n",
       "\n",
       "    .dataframe thead th {\n",
       "        text-align: right;\n",
       "    }\n",
       "</style>\n",
       "<table border=\"1\" class=\"dataframe\">\n",
       "  <thead>\n",
       "    <tr style=\"text-align: right;\">\n",
       "      <th></th>\n",
       "      <th>hash</th>\n",
       "      <th>author</th>\n",
       "      <th>date</th>\n",
       "      <th>description</th>\n",
       "    </tr>\n",
       "  </thead>\n",
       "  <tbody>\n",
       "    <tr>\n",
       "      <th>0</th>\n",
       "      <td>015b0f8</td>\n",
       "      <td>Ayaz Salikhov</td>\n",
       "      <td>Tue Jul 6 10:01:12 2021 +0300</td>\n",
       "      <td>Merge pull request #1397 from jupyter/mathbunn...</td>\n",
       "    </tr>\n",
       "    <tr>\n",
       "      <th>1</th>\n",
       "      <td>d13be7a</td>\n",
       "      <td>Ayaz Salikhov</td>\n",
       "      <td>Tue Jul 6 09:59:00 2021 +0300</td>\n",
       "      <td>Update hadolint docker version</td>\n",
       "    </tr>\n",
       "    <tr>\n",
       "      <th>2</th>\n",
       "      <td>5956af0</td>\n",
       "      <td>Erik Sundell</td>\n",
       "      <td>Tue Jul 6 01:23:25 2021 +0200</td>\n",
       "      <td>Merge pull request #1396 from jupyter/pre-comm...</td>\n",
       "    </tr>\n",
       "    <tr>\n",
       "      <th>3</th>\n",
       "      <td>8eb98bc</td>\n",
       "      <td>pre-commit-ci[bot]</td>\n",
       "      <td>Mon Jul 5 22:16:54 2021 +0000</td>\n",
       "      <td>[pre-commit.ci] pre-commit autoupdate</td>\n",
       "    </tr>\n",
       "    <tr>\n",
       "      <th>4</th>\n",
       "      <td>7999479</td>\n",
       "      <td>Ayaz Salikhov</td>\n",
       "      <td>Fri Jul 2 21:18:48 2021 +0300</td>\n",
       "      <td>Merge pull request #1395 from mathbunnyru/asal...</td>\n",
       "    </tr>\n",
       "  </tbody>\n",
       "</table>\n",
       "</div>"
      ],
      "text/plain": [
       "      hash              author                           date  \\\n",
       "0  015b0f8       Ayaz Salikhov  Tue Jul 6 10:01:12 2021 +0300   \n",
       "1  d13be7a       Ayaz Salikhov  Tue Jul 6 09:59:00 2021 +0300   \n",
       "2  5956af0        Erik Sundell  Tue Jul 6 01:23:25 2021 +0200   \n",
       "3  8eb98bc  pre-commit-ci[bot]  Mon Jul 5 22:16:54 2021 +0000   \n",
       "4  7999479       Ayaz Salikhov  Fri Jul 2 21:18:48 2021 +0300   \n",
       "\n",
       "                                         description  \n",
       "0  Merge pull request #1397 from jupyter/mathbunn...  \n",
       "1                     Update hadolint docker version  \n",
       "2  Merge pull request #1396 from jupyter/pre-comm...  \n",
       "3              [pre-commit.ci] pre-commit autoupdate  \n",
       "4  Merge pull request #1395 from mathbunnyru/asal...  "
      ]
     },
     "execution_count": 35,
     "metadata": {},
     "output_type": "execute_result"
    }
   ],
   "source": [
    "df.head()"
   ]
  },
  {
   "cell_type": "markdown",
   "id": "c91a945b-d162-4901-88a6-6f9b4de798f2",
   "metadata": {},
   "source": [
    "### Reading from Github (or any web location)\n",
    "\n",
    "We're going to read in some data from the seaborn repo, which has example datasets. https://github.com/mwaskom/seaborn-data"
   ]
  },
  {
   "cell_type": "code",
   "execution_count": 36,
   "id": "7c84daeb-5334-41b0-81de-4a9673038b7a",
   "metadata": {},
   "outputs": [],
   "source": [
    "df = pd.read_csv('https://raw.githubusercontent.com/mwaskom/seaborn-data/master/mpg.csv')"
   ]
  },
  {
   "cell_type": "code",
   "execution_count": 37,
   "id": "1b3eccbe-8749-4595-83bb-90771491d8f5",
   "metadata": {},
   "outputs": [
    {
     "data": {
      "text/html": [
       "<div>\n",
       "<style scoped>\n",
       "    .dataframe tbody tr th:only-of-type {\n",
       "        vertical-align: middle;\n",
       "    }\n",
       "\n",
       "    .dataframe tbody tr th {\n",
       "        vertical-align: top;\n",
       "    }\n",
       "\n",
       "    .dataframe thead th {\n",
       "        text-align: right;\n",
       "    }\n",
       "</style>\n",
       "<table border=\"1\" class=\"dataframe\">\n",
       "  <thead>\n",
       "    <tr style=\"text-align: right;\">\n",
       "      <th></th>\n",
       "      <th>mpg</th>\n",
       "      <th>cylinders</th>\n",
       "      <th>displacement</th>\n",
       "      <th>horsepower</th>\n",
       "      <th>weight</th>\n",
       "      <th>acceleration</th>\n",
       "      <th>model_year</th>\n",
       "      <th>origin</th>\n",
       "      <th>name</th>\n",
       "    </tr>\n",
       "  </thead>\n",
       "  <tbody>\n",
       "    <tr>\n",
       "      <th>0</th>\n",
       "      <td>18.0</td>\n",
       "      <td>8</td>\n",
       "      <td>307.0</td>\n",
       "      <td>130.0</td>\n",
       "      <td>3504</td>\n",
       "      <td>12.0</td>\n",
       "      <td>70</td>\n",
       "      <td>usa</td>\n",
       "      <td>chevrolet chevelle malibu</td>\n",
       "    </tr>\n",
       "    <tr>\n",
       "      <th>1</th>\n",
       "      <td>15.0</td>\n",
       "      <td>8</td>\n",
       "      <td>350.0</td>\n",
       "      <td>165.0</td>\n",
       "      <td>3693</td>\n",
       "      <td>11.5</td>\n",
       "      <td>70</td>\n",
       "      <td>usa</td>\n",
       "      <td>buick skylark 320</td>\n",
       "    </tr>\n",
       "    <tr>\n",
       "      <th>2</th>\n",
       "      <td>18.0</td>\n",
       "      <td>8</td>\n",
       "      <td>318.0</td>\n",
       "      <td>150.0</td>\n",
       "      <td>3436</td>\n",
       "      <td>11.0</td>\n",
       "      <td>70</td>\n",
       "      <td>usa</td>\n",
       "      <td>plymouth satellite</td>\n",
       "    </tr>\n",
       "    <tr>\n",
       "      <th>3</th>\n",
       "      <td>16.0</td>\n",
       "      <td>8</td>\n",
       "      <td>304.0</td>\n",
       "      <td>150.0</td>\n",
       "      <td>3433</td>\n",
       "      <td>12.0</td>\n",
       "      <td>70</td>\n",
       "      <td>usa</td>\n",
       "      <td>amc rebel sst</td>\n",
       "    </tr>\n",
       "    <tr>\n",
       "      <th>4</th>\n",
       "      <td>17.0</td>\n",
       "      <td>8</td>\n",
       "      <td>302.0</td>\n",
       "      <td>140.0</td>\n",
       "      <td>3449</td>\n",
       "      <td>10.5</td>\n",
       "      <td>70</td>\n",
       "      <td>usa</td>\n",
       "      <td>ford torino</td>\n",
       "    </tr>\n",
       "  </tbody>\n",
       "</table>\n",
       "</div>"
      ],
      "text/plain": [
       "    mpg  cylinders  displacement  horsepower  weight  acceleration  \\\n",
       "0  18.0          8         307.0       130.0    3504          12.0   \n",
       "1  15.0          8         350.0       165.0    3693          11.5   \n",
       "2  18.0          8         318.0       150.0    3436          11.0   \n",
       "3  16.0          8         304.0       150.0    3433          12.0   \n",
       "4  17.0          8         302.0       140.0    3449          10.5   \n",
       "\n",
       "   model_year origin                       name  \n",
       "0          70    usa  chevrolet chevelle malibu  \n",
       "1          70    usa          buick skylark 320  \n",
       "2          70    usa         plymouth satellite  \n",
       "3          70    usa              amc rebel sst  \n",
       "4          70    usa                ford torino  "
      ]
     },
     "execution_count": 37,
     "metadata": {},
     "output_type": "execute_result"
    }
   ],
   "source": [
    "df.head()"
   ]
  },
  {
   "cell_type": "code",
   "execution_count": null,
   "id": "af7916d0-e137-4f76-9710-38df00482d9a",
   "metadata": {},
   "outputs": [],
   "source": []
  }
 ],
 "metadata": {
  "kernelspec": {
   "display_name": "Python 3",
   "language": "python",
   "name": "python3"
  },
  "language_info": {
   "codemirror_mode": {
    "name": "ipython",
    "version": 3
   },
   "file_extension": ".py",
   "mimetype": "text/x-python",
   "name": "python",
   "nbconvert_exporter": "python",
   "pygments_lexer": "ipython3",
   "version": "3.9.2"
  }
 },
 "nbformat": 4,
 "nbformat_minor": 5
}
