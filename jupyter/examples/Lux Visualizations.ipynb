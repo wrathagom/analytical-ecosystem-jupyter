{
 "cells": [
  {
   "cell_type": "code",
   "execution_count": null,
   "id": "42335d24-e57d-49d1-91ba-586b3838d22a",
   "metadata": {},
   "outputs": [],
   "source": [
    "import pandas as pd\n",
    "import lux\n"
   ]
  },
  {
   "cell_type": "code",
   "execution_count": null,
   "id": "b0779f9c-4609-4d5f-b4dc-62067f9f0498",
   "metadata": {},
   "outputs": [],
   "source": [
    "df = pd.read_csv('https://raw.githubusercontent.com/mwaskom/seaborn-data/master/mpg.csv')\n"
   ]
  },
  {
   "cell_type": "code",
   "execution_count": null,
   "id": "1dcbbd3a-047c-4dc9-a638-13fec5f8310e",
   "metadata": {},
   "outputs": [],
   "source": [
    "df\n"
   ]
  },
  {
   "cell_type": "code",
   "execution_count": null,
   "id": "35438d26-b91e-4fbc-a969-3ea8f35c0d58",
   "metadata": {},
   "outputs": [],
   "source": [
    "vis = df.exported[0]\n",
    " "
   ]
  },
  {
   "cell_type": "code",
   "execution_count": null,
   "id": "fb480a90-ef92-45d4-8f03-7e860e9ce66c",
   "metadata": {},
   "outputs": [],
   "source": [
    "print (vis.to_code(\"altair\"))"
   ]
  },
  {
   "cell_type": "code",
   "execution_count": null,
   "id": "ec36c513-6576-45c3-a95d-215828579d51",
   "metadata": {},
   "outputs": [],
   "source": []
  }
 ],
 "metadata": {
  "kernelspec": {
   "display_name": "Python 3",
   "language": "python",
   "name": "python3"
  },
  "language_info": {
   "codemirror_mode": {
    "name": "ipython",
    "version": 3
   },
   "file_extension": ".py",
   "mimetype": "text/x-python",
   "name": "python",
   "nbconvert_exporter": "python",
   "pygments_lexer": "ipython3",
   "version": "3.9.2"
  }
 },
 "nbformat": 4,
 "nbformat_minor": 5
}
